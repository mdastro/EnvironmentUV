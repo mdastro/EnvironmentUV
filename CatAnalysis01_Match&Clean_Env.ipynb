{
 "cells": [
  {
   "cell_type": "markdown",
   "metadata": {},
   "source": [
    "# Figs. parameters"
   ]
  },
  {
   "cell_type": "code",
   "execution_count": 1,
   "metadata": {},
   "outputs": [],
   "source": [
    "plotpars = {'axes.labelsize': 18,\n",
    "            'axes.linewidth': 1.,\n",
    "            'figure.figsize': (7.,5.),\n",
    "            'font.size': 20,\n",
    "            'legend.frameon': True,\n",
    "            'legend.framealpha': 0.85,\n",
    "            'legend.edgecolor': 'black',\n",
    "            'legend.loc': 'best',\n",
    "            'legend.fontsize': 12,\n",
    "            'mathtext.fontset': 'stixsans',\n",
    "            'savefig.bbox': 'tight',\n",
    "            'xtick.labelsize': 18,\n",
    "            'ytick.labelsize': 18,\n",
    "           }\n",
    "\n",
    "plotpars_2cols = {'axes.labelsize': 18,\n",
    "                  'axes.linewidth': 1.,\n",
    "                  'figure.figsize': (15, 4.),\n",
    "                  'font.size': 12,\n",
    "                  'legend.frameon': True,\n",
    "                  'legend.framealpha': 0.85,\n",
    "                  'legend.edgecolor': 'black',\n",
    "                  'legend.loc': 'best',\n",
    "                  'legend.fontsize': 12,\n",
    "                  'mathtext.fontset': 'stixsans',\n",
    "                  'savefig.bbox': 'tight',\n",
    "                  'xtick.labelsize': 15,\n",
    "                  'ytick.labelsize': 15,\n",
    "                 }\n",
    "\n",
    "plotpars_3rows = {'axes.labelsize': 18,\n",
    "                  'axes.linewidth': 1.,\n",
    "                  'figure.figsize': (6, 9),\n",
    "                  'font.size': 12,\n",
    "                  'legend.frameon': True,\n",
    "                  'legend.framealpha': 0.85,\n",
    "                  'legend.edgecolor': 'black',\n",
    "                  'legend.loc': 'best',\n",
    "                  'legend.fontsize': 12,\n",
    "                  'mathtext.fontset': 'stixsans',\n",
    "                  'savefig.bbox': 'tight',\n",
    "                  'xtick.labelsize': 15,\n",
    "                  'ytick.labelsize': 15,\n",
    "                 }\n",
    "\n",
    "plotpars_3cols = {'axes.labelsize': 18,\n",
    "                  'axes.linewidth': 1.,\n",
    "                  'figure.figsize': (12, 3.5),\n",
    "                  'font.size': 12,\n",
    "                  'legend.frameon': True,\n",
    "                  'legend.framealpha': 0.85,\n",
    "                  'legend.edgecolor': 'black',\n",
    "                  'legend.loc': 'best',\n",
    "                  'legend.fontsize': 12,\n",
    "                  'mathtext.fontset': 'stixsans',\n",
    "                  'savefig.bbox': 'tight',\n",
    "                  'xtick.labelsize': 15,\n",
    "                  'ytick.labelsize': 15,\n",
    "                 }"
   ]
  },
  {
   "cell_type": "markdown",
   "metadata": {},
   "source": [
    "# Libraries"
   ]
  },
  {
   "cell_type": "code",
   "execution_count": 2,
   "metadata": {},
   "outputs": [],
   "source": [
    "import numpy             as np\n",
    "import pandas            as pd\n",
    "import matplotlib.pyplot as plt\n",
    "import seaborn           as sns\n",
    "import pyneb             as pn\n",
    "import astropy.cosmology as co\n",
    "import os"
   ]
  },
  {
   "cell_type": "code",
   "execution_count": 3,
   "metadata": {},
   "outputs": [],
   "source": [
    "env_dataset = pd.read_csv('../Matches/match03_match02_inputcata_small.csv')"
   ]
  },
  {
   "cell_type": "code",
   "execution_count": 4,
   "metadata": {},
   "outputs": [],
   "source": [
    "# observed magnitudes SDSS and GALEX\n",
    "mag_apparent = env_dataset.filter(['CATAID', 'BEST_MAG_FUV', 'BEST_MAG_NUV', 'MODELMAG_U', 'MODELMAG_G', \n",
    "                                   'MODELMAG_I', 'MODELMAG_Z'], axis=1)"
   ]
  },
  {
   "cell_type": "code",
   "execution_count": 5,
   "metadata": {},
   "outputs": [],
   "source": [
    "# TODO: match w/ k-corrections DMU\n",
    "# TODO: match w/ E(B-V)\n",
    "# TODO: extinction correction with pyneb\n",
    "# TODO: find pivot wl file\n",
    "# TODO: find offset file\n",
    "# TODO: estimate AB magnitudes as well as absolute magnitudes\n",
    "# TODO: filter the dataset by UV classes (Yi et al. 2011)"
   ]
  },
  {
   "cell_type": "markdown",
   "metadata": {},
   "source": [
    "# Extinction correction"
   ]
  },
  {
   "cell_type": "code",
   "execution_count": 6,
   "metadata": {},
   "outputs": [],
   "source": [
    "adopted_cosmology = co.FlatLambdaCDM(H0=70, Om0=0.3)"
   ]
  },
  {
   "cell_type": "markdown",
   "metadata": {},
   "source": [
    "# AB magnitudes estimation"
   ]
  },
  {
   "cell_type": "code",
   "execution_count": null,
   "metadata": {
    "scrolled": true
   },
   "outputs": [],
   "source": [
    "for i in env_dataset.columns:\n",
    "    print(i)"
   ]
  },
  {
   "cell_type": "markdown",
   "metadata": {},
   "source": [
    "# Absolute magnitudes estimation"
   ]
  },
  {
   "cell_type": "code",
   "execution_count": null,
   "metadata": {},
   "outputs": [],
   "source": [
    "plt.rcParams.update(plotpars)\n",
    "plt.scatter(x=dataset01['Z_TONRY'], y=dataset01['M_r'], alpha=0.2)\n",
    "plt.ylabel(\"M$_r$\")\n",
    "plt.xlabel(\"redshift\")\n",
    "plt.gca().invert_yaxis()\n",
    "plt.show()"
   ]
  },
  {
   "cell_type": "code",
   "execution_count": null,
   "metadata": {},
   "outputs": [],
   "source": [
    "dataset01"
   ]
  },
  {
   "cell_type": "markdown",
   "metadata": {},
   "source": [
    "## Cleaning the environment parameters of the sample"
   ]
  },
  {
   "cell_type": "code",
   "execution_count": null,
   "metadata": {},
   "outputs": [],
   "source": [
    "plt.hist(dataset01['DistanceToEdge'], bins=10, alpha=0.8)\n",
    "plt.show()"
   ]
  },
  {
   "cell_type": "code",
   "execution_count": null,
   "metadata": {},
   "outputs": [],
   "source": [
    "dataset02 = dataset01.loc[dataset01['SurfaceDensity']>-999]"
   ]
  },
  {
   "cell_type": "code",
   "execution_count": null,
   "metadata": {},
   "outputs": [],
   "source": [
    "dataset02['SurfaceDensity']<=1"
   ]
  },
  {
   "cell_type": "code",
   "execution_count": null,
   "metadata": {},
   "outputs": [],
   "source": [
    "plt.hist(dataset02['SurfaceDensity'], bins=10, alpha=0.8)\n",
    "plt.xlim([0., 3E5])\n",
    "plt.yscale('log')\n",
    "plt.show()"
   ]
  },
  {
   "cell_type": "code",
   "execution_count": null,
   "metadata": {},
   "outputs": [],
   "source": [
    "plt.xscale?"
   ]
  },
  {
   "cell_type": "code",
   "execution_count": null,
   "metadata": {},
   "outputs": [],
   "source": [
    "dataset02['SurfaceDensity'].describe()"
   ]
  },
  {
   "cell_type": "code",
   "execution_count": null,
   "metadata": {},
   "outputs": [],
   "source": [
    "dataset02['SurfaceDensity'].max()"
   ]
  },
  {
   "cell_type": "code",
   "execution_count": null,
   "metadata": {},
   "outputs": [],
   "source": []
  },
  {
   "cell_type": "code",
   "execution_count": null,
   "metadata": {},
   "outputs": [],
   "source": []
  },
  {
   "cell_type": "code",
   "execution_count": null,
   "metadata": {},
   "outputs": [],
   "source": []
  }
 ],
 "metadata": {
  "kernelspec": {
   "display_name": "Python 3",
   "language": "python",
   "name": "python3"
  },
  "language_info": {
   "codemirror_mode": {
    "name": "ipython",
    "version": 3
   },
   "file_extension": ".py",
   "mimetype": "text/x-python",
   "name": "python",
   "nbconvert_exporter": "python",
   "pygments_lexer": "ipython3",
   "version": "3.7.4"
  }
 },
 "nbformat": 4,
 "nbformat_minor": 2
}
